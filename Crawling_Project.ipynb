{
 "cells": [
  {
   "cell_type": "code",
   "execution_count": 1,
   "metadata": {},
   "outputs": [],
   "source": [
    "import requests\n",
    "from bs4 import BeautifulSoup"
   ]
  },
  {
   "cell_type": "code",
   "execution_count": 75,
   "metadata": {},
   "outputs": [
    {
     "name": "stdout",
     "output_type": "stream",
     "text": [
      "1 페이지 읽는중...\n",
      "2 페이지 읽는중...\n",
      "3 페이지 읽는중...\n",
      "4 페이지 읽는중...\n"
     ]
    },
    {
     "data": {
      "text/plain": [
       "40"
      ]
     },
     "execution_count": 75,
     "metadata": {},
     "output_type": "execute_result"
    }
   ],
   "source": [
    "elements = []\n",
    "for page in range(1, 5):\n",
    "    print(\"Crawling : {}\".format(page))\n",
    "    url = \"https://hypebeast.kr/page/{}?after=\".format(page)\n",
    "\n",
    "    response = requests.get(url)\n",
    "    response\n",
    "\n",
    "    response.text\n",
    "\n",
    "    dom = BeautifulSoup(response.content, \"html.parser\")\n",
    "    type(dom)\n",
    "\n",
    "    elements = elements + dom.select(\".posts>div>.post-box-content-container\")\n",
    "len(elements)"
   ]
  },
  {
   "cell_type": "code",
   "execution_count": 76,
   "metadata": {
    "collapsed": true
   },
   "outputs": [
    {
     "data": {
      "text/plain": [
       "<div class=\"post-box-content-container\"><div class=\"post-box-content-categories\"><a class=\"category category-footwear\" ga-event-action=\"clicks_category\" ga-event-category=\"post box clicks\" ga-event-label=\"https://hypebeast.kr/footwear\" ga-on=\"click\" href=\"https://hypebeast.kr/footwear\" title=\"신발\">신발</a></div><div class=\"post-box-content-title\"><a class=\"title\" ga-event-action=\"clicks_article_title\" ga-event-category=\"post box clicks\" ga-event-label=\"https://hypebeast.kr/2020/3/shawn-stussy-dior-b23-collaboration-sneakers-image\" ga-on=\"click\" href=\"https://hypebeast.kr/2020/3/shawn-stussy-dior-b23-collaboration-sneakers-image\" title=\"숀 스투시의 아트워크가 새겨진, 디올 ‘B23’ 협업 스니커 실물 이미지 공개\"><h2><span>숀 스투시의 아트워크가 새겨진, 디올 ‘B23’ 협업 스니커 실물 이미지 공개</span></h2></a></div><div class=\"post-box-content-excerpt\">\n",
       "                                숀 스투시의 아트워크 &amp; 디올 오블리크 패턴.\n",
       "                        </div><div class=\"post-box-content-meta\"><div class=\"post-box-meta-author-time\"><span class=\"author\"><span class=\"author-name\">By <a class=\"article-author\" ga-event-action=\"clicks_author\" ga-event-category=\"post box clicks\" ga-event-label=\"https://hypebeast.kr/2020/3/shawn-stussy-dior-b23-collaboration-sneakers-image\" ga-on=\"click\" href=\"https://hypebeast.kr/author/hyeonuk\" rel=\"author\">Hyeonuk Joo</a></span></span><span class=\"divider\">/</span><span class=\"time\"><time class=\"timeago\" datetime=\"2020-03-18T06:41:24Z\">36 seconds ago</time></span></div><div class=\"post-box-content-meta-time-info\"><span class=\"time\"><time class=\"timeago\" datetime=\"2020-03-18T06:41:24Z\">36 seconds ago</time></span><div class=\"post-box-stats\"><span class=\"divider\">  </span><span class=\"comment-count\"></span></div></div></div></div>"
      ]
     },
     "execution_count": 76,
     "metadata": {},
     "output_type": "execute_result"
    }
   ],
   "source": [
    "elements[0]"
   ]
  },
  {
   "cell_type": "code",
   "execution_count": 77,
   "metadata": {},
   "outputs": [
    {
     "data": {
      "text/html": [
       "<div>\n",
       "<style scoped>\n",
       "    .dataframe tbody tr th:only-of-type {\n",
       "        vertical-align: middle;\n",
       "    }\n",
       "\n",
       "    .dataframe tbody tr th {\n",
       "        vertical-align: top;\n",
       "    }\n",
       "\n",
       "    .dataframe thead th {\n",
       "        text-align: right;\n",
       "    }\n",
       "</style>\n",
       "<table border=\"1\" class=\"dataframe\">\n",
       "  <thead>\n",
       "    <tr style=\"text-align: right;\">\n",
       "      <th></th>\n",
       "      <th>category</th>\n",
       "      <th>title</th>\n",
       "      <th>summary</th>\n",
       "      <th>author</th>\n",
       "      <th>link</th>\n",
       "      <th>date</th>\n",
       "    </tr>\n",
       "  </thead>\n",
       "  <tbody>\n",
       "    <tr>\n",
       "      <td>35</td>\n",
       "      <td>신발</td>\n",
       "      <td>꼼 데 가르송과 나이키의 새 협업 덩크 로우, 실물 공개</td>\n",
       "      <td>종류는 2가지.</td>\n",
       "      <td>Soobin Kim</td>\n",
       "      <td>https://hypebeast.kr/2019/9/comme-des-garcons-...</td>\n",
       "      <td>Mar 16, 2020</td>\n",
       "    </tr>\n",
       "    <tr>\n",
       "      <td>36</td>\n",
       "      <td>패션</td>\n",
       "      <td>나이키, 코로나19 확산 방지 위해 미국 내 전 매장 휴업 조치</td>\n",
       "      <td>슈프림, 팔라스도 임시 휴업에 들어갔다.</td>\n",
       "      <td>Yonghwan Choi</td>\n",
       "      <td>https://hypebeast.kr/2020/3/nike-shut-down-all...</td>\n",
       "      <td>Mar 16, 2020</td>\n",
       "    </tr>\n",
       "    <tr>\n",
       "      <td>37</td>\n",
       "      <td>패션</td>\n",
       "      <td>베이프의 세컨드 라인업, 에이프 x 알파 인더스트리 캡슐 컬렉션 룩북 및 발매 정보</td>\n",
       "      <td>에이프 유인원 로고가 새겨진 MA-1 재킷.</td>\n",
       "      <td>Hyeonuk Joo</td>\n",
       "      <td>https://hypebeast.kr/2020/3/alpha-industries-a...</td>\n",
       "      <td>Mar 16, 2020</td>\n",
       "    </tr>\n",
       "    <tr>\n",
       "      <td>38</td>\n",
       "      <td>전자</td>\n",
       "      <td>빌 게이츠, 마이크로소프트 이사직 최종 사임 결정</td>\n",
       "      <td>자선사업 빛 전염병 퇴치에 전념할 예정.</td>\n",
       "      <td>Seung Ho Jang</td>\n",
       "      <td>https://hypebeast.kr/2020/3/bill-gates-microso...</td>\n",
       "      <td>Mar 16, 2020</td>\n",
       "    </tr>\n",
       "    <tr>\n",
       "      <td>39</td>\n",
       "      <td>패션</td>\n",
       "      <td>팔라스의 2020 봄 컬렉션 여섯 번째 드롭 리스트 공개</td>\n",
       "      <td>봄에는 후디에 반바지가 딱이지.</td>\n",
       "      <td>Eunbo Shim</td>\n",
       "      <td>https://hypebeast.kr/2020/3/palace-skateboards...</td>\n",
       "      <td>Mar 16, 2020</td>\n",
       "    </tr>\n",
       "  </tbody>\n",
       "</table>\n",
       "</div>"
      ],
      "text/plain": [
       "   category                                           title  \\\n",
       "35       신발                 꼼 데 가르송과 나이키의 새 협업 덩크 로우, 실물 공개   \n",
       "36       패션             나이키, 코로나19 확산 방지 위해 미국 내 전 매장 휴업 조치   \n",
       "37       패션  베이프의 세컨드 라인업, 에이프 x 알파 인더스트리 캡슐 컬렉션 룩북 및 발매 정보   \n",
       "38       전자                     빌 게이츠, 마이크로소프트 이사직 최종 사임 결정   \n",
       "39       패션                 팔라스의 2020 봄 컬렉션 여섯 번째 드롭 리스트 공개   \n",
       "\n",
       "                     summary         author  \\\n",
       "35                  종류는 2가지.     Soobin Kim   \n",
       "36    슈프림, 팔라스도 임시 휴업에 들어갔다.  Yonghwan Choi   \n",
       "37  에이프 유인원 로고가 새겨진 MA-1 재킷.    Hyeonuk Joo   \n",
       "38    자선사업 빛 전염병 퇴치에 전념할 예정.  Seung Ho Jang   \n",
       "39         봄에는 후디에 반바지가 딱이지.     Eunbo Shim   \n",
       "\n",
       "                                                 link          date  \n",
       "35  https://hypebeast.kr/2019/9/comme-des-garcons-...  Mar 16, 2020  \n",
       "36  https://hypebeast.kr/2020/3/nike-shut-down-all...  Mar 16, 2020  \n",
       "37  https://hypebeast.kr/2020/3/alpha-industries-a...  Mar 16, 2020  \n",
       "38  https://hypebeast.kr/2020/3/bill-gates-microso...  Mar 16, 2020  \n",
       "39  https://hypebeast.kr/2020/3/palace-skateboards...  Mar 16, 2020  "
      ]
     },
     "execution_count": 77,
     "metadata": {},
     "output_type": "execute_result"
    }
   ],
   "source": [
    "datas = []\n",
    "\n",
    "for element in elements :\n",
    "    try:\n",
    "        category = element.select_one('.post-box-content-categories> a').text\n",
    "    except:\n",
    "        category = \"-\"\n",
    "    try:\n",
    "        title = element.select_one('.post-box-content-title > a').text\n",
    "    except:\n",
    "        title = \"-\"\n",
    "    try:\n",
    "        summary = element.select_one('.post-box-content-excerpt').text.strip()\n",
    "    except:\n",
    "        summary = \"-\"\n",
    "    try:\n",
    "        author = element.select_one('.author-name > a').text\n",
    "    except:\n",
    "        author = \"-\"\n",
    "    try:\n",
    "        link = element.select_one('.post-box-content-title > a').get(\"href\")\n",
    "    except:\n",
    "        link = \"-\"\n",
    "    try:\n",
    "        date = element.select_one('.time > time').text\n",
    "    except:\n",
    "        date = \"-\"\n",
    "        \n",
    "    datas.append({\n",
    "        \"category\" : category,\n",
    "        \"title\" : title,\n",
    "        \"summary\" : summary,\n",
    "        \"author\" : author,\n",
    "        \"link\" : link,\n",
    "        \"date\" : date,\n",
    "    })\n",
    "hb_df = pd.DataFrame(datas)\n",
    "hb_df.tail()"
   ]
  },
  {
   "cell_type": "code",
   "execution_count": 5,
   "metadata": {},
   "outputs": [
    {
     "data": {
      "text/plain": [
       "'https://hypebeast.kr/2020/3/apple-beats-by-dre-powerbeats-4-releases'"
      ]
     },
     "execution_count": 5,
     "metadata": {},
     "output_type": "execute_result"
    }
   ],
   "source": [
    "hb_df.loc[0, \"link\"]"
   ]
  },
  {
   "cell_type": "markdown",
   "metadata": {},
   "source": [
    "### content 데이터 추가하기"
   ]
  },
  {
   "cell_type": "code",
   "execution_count": 6,
   "metadata": {},
   "outputs": [
    {
     "data": {
      "text/plain": [
       "'https://hypebeast.kr/2020/3/apple-beats-by-dre-powerbeats-4-releases'"
      ]
     },
     "execution_count": 6,
     "metadata": {},
     "output_type": "execute_result"
    }
   ],
   "source": [
    "link = hb_df.loc[0, \"link\"]\n",
    "link"
   ]
  },
  {
   "cell_type": "code",
   "execution_count": 7,
   "metadata": {},
   "outputs": [
    {
     "data": {
      "text/plain": [
       "<Response [200]>"
      ]
     },
     "execution_count": 7,
     "metadata": {},
     "output_type": "execute_result"
    }
   ],
   "source": [
    "response = requests.get(link)\n",
    "response"
   ]
  },
  {
   "cell_type": "code",
   "execution_count": 8,
   "metadata": {},
   "outputs": [
    {
     "name": "stdout",
     "output_type": "stream",
     "text": [
      "https://hypebeast.kr/2020/3/apple-beats-by-dre-powerbeats-4-releases\n"
     ]
    }
   ],
   "source": [
    "print(link)"
   ]
  },
  {
   "cell_type": "code",
   "execution_count": 9,
   "metadata": {},
   "outputs": [
    {
     "data": {
      "text/plain": [
       "bs4.BeautifulSoup"
      ]
     },
     "execution_count": 9,
     "metadata": {},
     "output_type": "execute_result"
    }
   ],
   "source": [
    "dom = BeautifulSoup(response.content, \"html.parser\")\n",
    "type(dom)"
   ]
  },
  {
   "cell_type": "code",
   "execution_count": 11,
   "metadata": {},
   "outputs": [
    {
     "data": {
      "text/plain": [
       "'애플과 비츠 바이 드레의 스포츠 블루투스 이어폰 파워비츠 4의 공식 정보가 공개됐다. 지난 3월 10일, IT 매거진 <윈퓨처>는 파워비츠 4가 15시간의 배터리 수명, 5분 충전으로 60분 음악을 재생할 수 있는 고속 충전을 지원할 것이라고 전했다. 루머는 정확했다. 이어폰 바워비츠 4의 사용 가능 시간은 배터리 완전 충전 기준 15시간이며 고속 충전을 지원한다. 스포츠 블루투스 이어폰인 만큼 운동 시 흘리는 땀이나 약간의 물 튐을 방지할 수 있는 수준의 IPX4 방수 등급을 받았다. SoC(System-on-chip)는 비츠 솔로 프로와 에어팟 2세대에 사용된 H1 칩이 탑재되어 기존 파워비츠 시리즈와 달리 시리 명령어를 지원한다. 오디오 공유 기능을 지원하여 두 세트의 비츠 헤드폰이나 에어팟을 아이폰에 연결해 친구와 함께 음악을 들을 수 있다. 파워비츠 4는 블랙, 화이트, 레드 세 가지의 컬러로 출시된다. 가격은 1십6만9천 원이며 출시일은 3월 19일로 예상된다.'"
      ]
     },
     "execution_count": 11,
     "metadata": {},
     "output_type": "execute_result"
    }
   ],
   "source": [
    "content = dom.select_one('.row p').text.replace(\"\\xa0\", \"\")\n",
    "content"
   ]
  },
  {
   "cell_type": "markdown",
   "metadata": {},
   "source": [
    "### content 데이터 함수로 만들기"
   ]
  },
  {
   "cell_type": "code",
   "execution_count": 12,
   "metadata": {},
   "outputs": [],
   "source": [
    "def get_content(link):\n",
    "    response = requests.get(link)\n",
    "    dom = BeautifulSoup(response.content, \"html.parser\")\n",
    "    return dom.select_one('.row p').text.strip().replace(\"\\xa0\", \"\")"
   ]
  },
  {
   "cell_type": "code",
   "execution_count": 13,
   "metadata": {
    "scrolled": true
   },
   "outputs": [
    {
     "data": {
      "text/html": [
       "<div>\n",
       "<style scoped>\n",
       "    .dataframe tbody tr th:only-of-type {\n",
       "        vertical-align: middle;\n",
       "    }\n",
       "\n",
       "    .dataframe tbody tr th {\n",
       "        vertical-align: top;\n",
       "    }\n",
       "\n",
       "    .dataframe thead th {\n",
       "        text-align: right;\n",
       "    }\n",
       "</style>\n",
       "<table border=\"1\" class=\"dataframe\">\n",
       "  <thead>\n",
       "    <tr style=\"text-align: right;\">\n",
       "      <th></th>\n",
       "      <th>category</th>\n",
       "      <th>title</th>\n",
       "      <th>summary</th>\n",
       "      <th>author</th>\n",
       "      <th>link</th>\n",
       "      <th>date</th>\n",
       "      <th>content</th>\n",
       "    </tr>\n",
       "  </thead>\n",
       "  <tbody>\n",
       "    <tr>\n",
       "      <td>8</td>\n",
       "      <td>패션</td>\n",
       "      <td>바빌론 LA 2020 봄 컬렉션, 두 번째 드롭 룩북 공개</td>\n",
       "      <td>슈프림, 팔라스를 이을 차세대 스트리트웨어 브랜드.</td>\n",
       "      <td>HB Team</td>\n",
       "      <td>https://hypebeast.kr/2020/3/babylon-la-spring-...</td>\n",
       "      <td>19 Hrs ago</td>\n",
       "      <td>리 스필만과 가렛 스티븐슨의 스케이트보드 기반스트리트웨어 브랜드, 바빌론 LA가 2...</td>\n",
       "    </tr>\n",
       "    <tr>\n",
       "      <td>9</td>\n",
       "      <td>신발</td>\n",
       "      <td>릭 오웬스, 네 종류의 메가투스 부츠 출시 및 구매 좌표</td>\n",
       "      <td>복잡한 슈 레이스와 간결한 부츠의 대조.</td>\n",
       "      <td>HB Team</td>\n",
       "      <td>https://hypebeast.kr/2020/3/rick-owens-black-m...</td>\n",
       "      <td>21 Hrs ago</td>\n",
       "      <td>릭 오웬스가 네 종류의 새로운 메가투스 부츠를 출시했다. 가장 먼저 눈에 띄는 제품...</td>\n",
       "    </tr>\n",
       "  </tbody>\n",
       "</table>\n",
       "</div>"
      ],
      "text/plain": [
       "  category                             title                       summary  \\\n",
       "8       패션  바빌론 LA 2020 봄 컬렉션, 두 번째 드롭 룩북 공개  슈프림, 팔라스를 이을 차세대 스트리트웨어 브랜드.   \n",
       "9       신발   릭 오웬스, 네 종류의 메가투스 부츠 출시 및 구매 좌표        복잡한 슈 레이스와 간결한 부츠의 대조.   \n",
       "\n",
       "    author                                               link        date  \\\n",
       "8  HB Team  https://hypebeast.kr/2020/3/babylon-la-spring-...  19 Hrs ago   \n",
       "9  HB Team  https://hypebeast.kr/2020/3/rick-owens-black-m...  21 Hrs ago   \n",
       "\n",
       "                                             content  \n",
       "8  리 스필만과 가렛 스티븐슨의 스케이트보드 기반스트리트웨어 브랜드, 바빌론 LA가 2...  \n",
       "9  릭 오웬스가 네 종류의 새로운 메가투스 부츠를 출시했다. 가장 먼저 눈에 띄는 제품...  "
      ]
     },
     "execution_count": 13,
     "metadata": {},
     "output_type": "execute_result"
    }
   ],
   "source": [
    "hb_df[\"content\"] = hb_df[\"link\"].apply(get_content)\n",
    "hb_df.tail(2)"
   ]
  },
  {
   "cell_type": "code",
   "execution_count": 310,
   "metadata": {},
   "outputs": [
    {
     "data": {
      "text/plain": [
       "'디올과조던 브랜드의 협업 스니커, 에어 조던 1 하이 OG 디올의 발매일이 공식적으로 연기됐다. 나이키는 3월 17일, 브랜드 뉴스 채널을 통해 ‘공공단체의 권고에 따라, 모두의 안전을 보장하기 위하여 에어 디올 캡슐 컬렉션의 발매를 연기하기로 결정했다”라고 전했다.코로나19에 대한 직접적인 언급은 보도자료에 없었지만, 이번 발매 연기는최근 코로나19가 감염병 최고 경고 등급인 팬데믹으로 격상되면서 결정된 것으로 보인다.'"
      ]
     },
     "execution_count": 310,
     "metadata": {},
     "output_type": "execute_result"
    }
   ],
   "source": [
    "hb_df.loc[0, \"content\"]"
   ]
  },
  {
   "cell_type": "code",
   "execution_count": 91,
   "metadata": {},
   "outputs": [],
   "source": [
    "class Hypebeast:\n",
    "    \n",
    "    def __init__(self):\n",
    "        self.basic_url = \"https://hypebeast.kr\" \n",
    "    \n",
    "    # link를 받아서 content를 추가해주는 함수    \n",
    "    def get_content(self, link):\n",
    "        response = requests.get(link)\n",
    "        dom = BeautifulSoup(response.content, \"html.parser\")\n",
    "        return dom.select_one('.row p').text.strip().replace(\"\\xa0\", \"\")\n",
    "        \n",
    "    def one_page(self, page):\n",
    "        elements = []\n",
    "        for page in range(page, page * 20):\n",
    "            print(\"Crawling : {}\".format(page))\n",
    "            url = \"https://hypebeast.kr/page/{}?after=\".format(page)\n",
    "            response = requests.get(url)\n",
    "            dom = BeautifulSoup(response.content, \"html.parser\")\n",
    "            elements = elements + dom.select(\".posts>div>.post-box-content-container\")\n",
    "        \n",
    "        datas = []\n",
    "        for element in elements :\n",
    "            try:\n",
    "                category = element.select_one('.post-box-content-categories> a').text\n",
    "            except:\n",
    "                category = \"-\"\n",
    "            try:\n",
    "                title = element.select_one('.post-box-content-title > a').text\n",
    "            except:\n",
    "                title = \"-\"\n",
    "            try:\n",
    "                summary = element.select_one('.post-box-content-excerpt').text.strip()\n",
    "            except:\n",
    "                summary = \"-\"\n",
    "            try:\n",
    "                author = element.select_one('.author-name > a').text\n",
    "            except:\n",
    "                author = \"-\"\n",
    "            try:\n",
    "                link = element.select_one('.post-box-content-title > a').get(\"href\")\n",
    "            except:\n",
    "                link = \"-\"\n",
    "            try:\n",
    "                date = element.select_one('.time > time').text\n",
    "            except:\n",
    "                date = \"-\"\n",
    "\n",
    "            data = ({\n",
    "                \"category\" : category,\n",
    "                \"title\" : title,\n",
    "                \"summary\" : summary,\n",
    "                \"author\" : author,\n",
    "                \"link\" : link,\n",
    "                \"date\" : date,\n",
    "            })\n",
    "            \n",
    "            datas.append(data)\n",
    "    \n",
    "        hb_df = pd.DataFrame(datas)\n",
    "        hb_df[\"content\"] = hb_df[\"link\"].apply(self.get_content)\n",
    "        \n",
    "        return hb_df"
   ]
  },
  {
   "cell_type": "code",
   "execution_count": 92,
   "metadata": {},
   "outputs": [],
   "source": [
    "hypebeast = Hypebeast()"
   ]
  },
  {
   "cell_type": "code",
   "execution_count": 94,
   "metadata": {
    "scrolled": true
   },
   "outputs": [
    {
     "name": "stdout",
     "output_type": "stream",
     "text": [
      "Crawling : 1\n",
      "Crawling : 2\n",
      "Crawling : 3\n",
      "Crawling : 4\n",
      "Crawling : 5\n",
      "Crawling : 6\n",
      "Crawling : 7\n",
      "Crawling : 8\n",
      "Crawling : 9\n",
      "Crawling : 10\n",
      "Crawling : 11\n",
      "Crawling : 12\n",
      "Crawling : 13\n",
      "Crawling : 14\n",
      "Crawling : 15\n",
      "Crawling : 16\n",
      "Crawling : 17\n",
      "Crawling : 18\n",
      "Crawling : 19\n"
     ]
    },
    {
     "data": {
      "text/html": [
       "<div>\n",
       "<style scoped>\n",
       "    .dataframe tbody tr th:only-of-type {\n",
       "        vertical-align: middle;\n",
       "    }\n",
       "\n",
       "    .dataframe tbody tr th {\n",
       "        vertical-align: top;\n",
       "    }\n",
       "\n",
       "    .dataframe thead th {\n",
       "        text-align: right;\n",
       "    }\n",
       "</style>\n",
       "<table border=\"1\" class=\"dataframe\">\n",
       "  <thead>\n",
       "    <tr style=\"text-align: right;\">\n",
       "      <th></th>\n",
       "      <th>category</th>\n",
       "      <th>title</th>\n",
       "      <th>summary</th>\n",
       "      <th>author</th>\n",
       "      <th>link</th>\n",
       "      <th>date</th>\n",
       "      <th>content</th>\n",
       "    </tr>\n",
       "  </thead>\n",
       "  <tbody>\n",
       "    <tr>\n",
       "      <td>185</td>\n",
       "      <td>신발</td>\n",
       "      <td>박스 로고 에어 포스 1 로우, 슈프림 공식 출시일 발표</td>\n",
       "      <td>출시는 이번주.</td>\n",
       "      <td>Eunbo Shim</td>\n",
       "      <td>https://hypebeast.kr/2020/3/supreme-nike-airfo...</td>\n",
       "      <td>Mar 2, 2020</td>\n",
       "      <td>슈프림과 나이키의 협업 박스 로고 에어 포스 1 로우의 출시일이 확정됐다. 나이키 ...</td>\n",
       "    </tr>\n",
       "    <tr>\n",
       "      <td>186</td>\n",
       "      <td>패션</td>\n",
       "      <td>나이키, 코로나19 확산 우려에 오리건 본사 건물 폐쇄 조치</td>\n",
       "      <td>“확실한 예방을 위해.”</td>\n",
       "      <td>Yonghwan Choi</td>\n",
       "      <td>https://hypebeast.kr/2020/3/nike-closure-coron...</td>\n",
       "      <td>Mar 2, 2020</td>\n",
       "      <td>미국에서도 코로나19로 인한 첫 사망자가 발생하며 전염에 대한 염려가 커지는 와중,...</td>\n",
       "    </tr>\n",
       "    <tr>\n",
       "      <td>187</td>\n",
       "      <td>패션</td>\n",
       "      <td>성별의 경계를 지운, 톰 브라운 2020 FW 컬렉션 런웨이 무대</td>\n",
       "      <td>노아의 방주에서 영감을 받았다?</td>\n",
       "      <td>Hyeonuk Joo</td>\n",
       "      <td>https://hypebeast.kr/2020/3/thom-browne-fall-w...</td>\n",
       "      <td>Mar 2, 2020</td>\n",
       "      <td>톰 브라운이 파리 패션위크에서 독특한 콘셉트의 런웨이 무대를 선보여 화제다. 톰 브...</td>\n",
       "    </tr>\n",
       "    <tr>\n",
       "      <td>188</td>\n",
       "      <td>패션</td>\n",
       "      <td>진귀한 보석을 휘감은, 셀린 2020 FW 컬렉션 런웨이 현장</td>\n",
       "      <td>스페인 조각가, 세자르 만리케의 유산과 함께.</td>\n",
       "      <td>Seung Hoon Jeong</td>\n",
       "      <td>https://hypebeast.kr/2020/3/celine-fall-winter...</td>\n",
       "      <td>Mar 2, 2020</td>\n",
       "      <td>에디 슬리먼이 이끌고 있는 셀린의 2020 가을, 겨울 컬렉션이 공개됐다. 파리 패...</td>\n",
       "    </tr>\n",
       "    <tr>\n",
       "      <td>189</td>\n",
       "      <td>패션</td>\n",
       "      <td>스마일리 페이스가 렌즈에? 차이나타운 마켓 x 아킬라 선글라스 협업 컬렉션</td>\n",
       "      <td>요즘 같은 때, 눈이라도 웃어야지.</td>\n",
       "      <td>Seung Ho Jang</td>\n",
       "      <td>https://hypebeast.kr/2020/3/chinatown-market-a...</td>\n",
       "      <td>Mar 2, 2020</td>\n",
       "      <td>차이나타운 마켓이 아이웨어 브랜드 아킬라와 손잡고 선글라스 컬렉션을 출시했다. ‘에...</td>\n",
       "    </tr>\n",
       "  </tbody>\n",
       "</table>\n",
       "</div>"
      ],
      "text/plain": [
       "    category                                      title  \\\n",
       "185       신발            박스 로고 에어 포스 1 로우, 슈프림 공식 출시일 발표   \n",
       "186       패션          나이키, 코로나19 확산 우려에 오리건 본사 건물 폐쇄 조치   \n",
       "187       패션       성별의 경계를 지운, 톰 브라운 2020 FW 컬렉션 런웨이 무대   \n",
       "188       패션         진귀한 보석을 휘감은, 셀린 2020 FW 컬렉션 런웨이 현장   \n",
       "189       패션  스마일리 페이스가 렌즈에? 차이나타운 마켓 x 아킬라 선글라스 협업 컬렉션   \n",
       "\n",
       "                       summary            author  \\\n",
       "185                   출시는 이번주.        Eunbo Shim   \n",
       "186              “확실한 예방을 위해.”     Yonghwan Choi   \n",
       "187          노아의 방주에서 영감을 받았다?       Hyeonuk Joo   \n",
       "188  스페인 조각가, 세자르 만리케의 유산과 함께.  Seung Hoon Jeong   \n",
       "189        요즘 같은 때, 눈이라도 웃어야지.     Seung Ho Jang   \n",
       "\n",
       "                                                  link         date  \\\n",
       "185  https://hypebeast.kr/2020/3/supreme-nike-airfo...  Mar 2, 2020   \n",
       "186  https://hypebeast.kr/2020/3/nike-closure-coron...  Mar 2, 2020   \n",
       "187  https://hypebeast.kr/2020/3/thom-browne-fall-w...  Mar 2, 2020   \n",
       "188  https://hypebeast.kr/2020/3/celine-fall-winter...  Mar 2, 2020   \n",
       "189  https://hypebeast.kr/2020/3/chinatown-market-a...  Mar 2, 2020   \n",
       "\n",
       "                                               content  \n",
       "185  슈프림과 나이키의 협업 박스 로고 에어 포스 1 로우의 출시일이 확정됐다. 나이키 ...  \n",
       "186  미국에서도 코로나19로 인한 첫 사망자가 발생하며 전염에 대한 염려가 커지는 와중,...  \n",
       "187  톰 브라운이 파리 패션위크에서 독특한 콘셉트의 런웨이 무대를 선보여 화제다. 톰 브...  \n",
       "188  에디 슬리먼이 이끌고 있는 셀린의 2020 가을, 겨울 컬렉션이 공개됐다. 파리 패...  \n",
       "189  차이나타운 마켓이 아이웨어 브랜드 아킬라와 손잡고 선글라스 컬렉션을 출시했다. ‘에...  "
      ]
     },
     "execution_count": 94,
     "metadata": {},
     "output_type": "execute_result"
    }
   ],
   "source": [
    "one_page_df = hypebeast.one_page(1)\n",
    "one_page_df.tail()"
   ]
  },
  {
   "cell_type": "code",
   "execution_count": 95,
   "metadata": {},
   "outputs": [
    {
     "data": {
      "text/html": [
       "<div>\n",
       "<style scoped>\n",
       "    .dataframe tbody tr th:only-of-type {\n",
       "        vertical-align: middle;\n",
       "    }\n",
       "\n",
       "    .dataframe tbody tr th {\n",
       "        vertical-align: top;\n",
       "    }\n",
       "\n",
       "    .dataframe thead th {\n",
       "        text-align: right;\n",
       "    }\n",
       "</style>\n",
       "<table border=\"1\" class=\"dataframe\">\n",
       "  <thead>\n",
       "    <tr style=\"text-align: right;\">\n",
       "      <th></th>\n",
       "      <th>category</th>\n",
       "      <th>title</th>\n",
       "      <th>summary</th>\n",
       "      <th>author</th>\n",
       "      <th>link</th>\n",
       "      <th>date</th>\n",
       "      <th>content</th>\n",
       "    </tr>\n",
       "  </thead>\n",
       "  <tbody>\n",
       "    <tr>\n",
       "      <td>count</td>\n",
       "      <td>190</td>\n",
       "      <td>190</td>\n",
       "      <td>190</td>\n",
       "      <td>190</td>\n",
       "      <td>190</td>\n",
       "      <td>190</td>\n",
       "      <td>190</td>\n",
       "    </tr>\n",
       "    <tr>\n",
       "      <td>unique</td>\n",
       "      <td>11</td>\n",
       "      <td>190</td>\n",
       "      <td>190</td>\n",
       "      <td>8</td>\n",
       "      <td>190</td>\n",
       "      <td>24</td>\n",
       "      <td>189</td>\n",
       "    </tr>\n",
       "    <tr>\n",
       "      <td>top</td>\n",
       "      <td>패션</td>\n",
       "      <td>호카 오네 오네가 선보이는 첫 의류 및 액세서리 컬렉션</td>\n",
       "      <td>무선 이어폰을 샀는데 줄을 연결해야 하는 아이러니한 상황.</td>\n",
       "      <td>Hyeonuk Joo</td>\n",
       "      <td>https://hypebeast.kr/2020/3/bentley-mulliner-b...</td>\n",
       "      <td>Mar 16, 2020</td>\n",
       "      <td></td>\n",
       "    </tr>\n",
       "    <tr>\n",
       "      <td>freq</td>\n",
       "      <td>72</td>\n",
       "      <td>1</td>\n",
       "      <td>1</td>\n",
       "      <td>47</td>\n",
       "      <td>1</td>\n",
       "      <td>18</td>\n",
       "      <td>2</td>\n",
       "    </tr>\n",
       "  </tbody>\n",
       "</table>\n",
       "</div>"
      ],
      "text/plain": [
       "       category                           title  \\\n",
       "count       190                             190   \n",
       "unique       11                             190   \n",
       "top          패션  호카 오네 오네가 선보이는 첫 의류 및 액세서리 컬렉션   \n",
       "freq         72                               1   \n",
       "\n",
       "                                 summary       author  \\\n",
       "count                                190          190   \n",
       "unique                               190            8   \n",
       "top     무선 이어폰을 샀는데 줄을 연결해야 하는 아이러니한 상황.  Hyeonuk Joo   \n",
       "freq                                   1           47   \n",
       "\n",
       "                                                     link          date  \\\n",
       "count                                                 190           190   \n",
       "unique                                                190            24   \n",
       "top     https://hypebeast.kr/2020/3/bentley-mulliner-b...  Mar 16, 2020   \n",
       "freq                                                    1            18   \n",
       "\n",
       "       content  \n",
       "count      190  \n",
       "unique     189  \n",
       "top             \n",
       "freq         2  "
      ]
     },
     "execution_count": 95,
     "metadata": {},
     "output_type": "execute_result"
    }
   ],
   "source": [
    "one_page_df.describe()"
   ]
  },
  {
   "cell_type": "markdown",
   "metadata": {},
   "source": [
    "### Hypebeast를 파일로 저장"
   ]
  },
  {
   "cell_type": "code",
   "execution_count": 98,
   "metadata": {},
   "outputs": [
    {
     "name": "stdout",
     "output_type": "stream",
     "text": [
      "Overwriting hypebeast.py\n"
     ]
    }
   ],
   "source": [
    "%%writefile hypebeast.py\n",
    "import pandas as pd\n",
    "import requests\n",
    "from bs4 import BeautifulSoup\n",
    "\n",
    "class Hypebeast:\n",
    "    \n",
    "    def __init__(self):\n",
    "        self.basic_url = \"https://hypebeast.kr\" \n",
    "    \n",
    "    # link를 받아서 content를 추가해주는 함수    \n",
    "    def get_content(self, link):\n",
    "        response = requests.get(link)\n",
    "        dom = BeautifulSoup(response.content, \"html.parser\")\n",
    "        return dom.select_one('.row p').text.strip().replace(\"\\xa0\", \"\")\n",
    "    \n",
    "    # page 입력 함수    \n",
    "    def one_page(self, page):\n",
    "        elements = []\n",
    "        for page in range(page, page * 20):\n",
    "            print(\"Crawling : {} page..\".format(page))\n",
    "            url = \"https://hypebeast.kr/page/{}?after=\".format(page)\n",
    "            response = requests.get(url)\n",
    "            dom = BeautifulSoup(response.content, \"html.parser\")\n",
    "            elements = elements + dom.select(\".posts>div>.post-box-content-container\")\n",
    "        \n",
    "        # Css Select로 파싱할 때 해당 html이 없는 경우는 예외 처리 해주는 함수\n",
    "        datas = []\n",
    "        for element in elements :\n",
    "            try:\n",
    "                category = element.select_one('.post-box-content-categories> a').text\n",
    "            except:\n",
    "                category = \"-\"\n",
    "            try:\n",
    "                title = element.select_one('.post-box-content-title > a').text\n",
    "            except:\n",
    "                title = \"-\"\n",
    "            try:\n",
    "                summary = element.select_one('.post-box-content-excerpt').text.strip()\n",
    "            except:\n",
    "                summary = \"-\"\n",
    "            try:\n",
    "                author = element.select_one('.author-name > a').text\n",
    "            except:\n",
    "                author = \"-\"\n",
    "            try:\n",
    "                link = element.select_one('.post-box-content-title > a').get(\"href\")\n",
    "            except:\n",
    "                link = \"-\"\n",
    "            try:\n",
    "                date = element.select_one('.time > time').text\n",
    "            except:\n",
    "                date = \"-\"\n",
    "\n",
    "            data = ({\n",
    "                \"category\" : category,\n",
    "                \"title\" : title,\n",
    "                \"summary\" : summary,\n",
    "                \"author\" : author,\n",
    "                \"link\" : link,\n",
    "                \"date\" : date,\n",
    "            })\n",
    "            \n",
    "            datas.append(data)\n",
    "    \n",
    "        hb_df = pd.DataFrame(datas)\n",
    "        hb_df[\"content\"] = hb_df[\"link\"].apply(self.get_content)\n",
    "        \n",
    "        return hb_df"
   ]
  }
 ],
 "metadata": {
  "kernelspec": {
   "display_name": "Python 3",
   "language": "python",
   "name": "python3"
  },
  "language_info": {
   "codemirror_mode": {
    "name": "ipython",
    "version": 3
   },
   "file_extension": ".py",
   "mimetype": "text/x-python",
   "name": "python",
   "nbconvert_exporter": "python",
   "pygments_lexer": "ipython3",
   "version": "3.7.4"
  }
 },
 "nbformat": 4,
 "nbformat_minor": 2
}
